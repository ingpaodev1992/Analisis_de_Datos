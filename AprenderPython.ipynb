{
 "cells": [
  {
   "cell_type": "code",
   "execution_count": null,
   "id": "c9f44402-0acb-4333-acb8-ec6985a7f044",
   "metadata": {},
   "outputs": [],
   "source": [
    "# Aprender Python"
   ]
  },
  {
   "cell_type": "code",
   "execution_count": 2,
   "id": "afc2abf0-3755-432e-90c3-35e2829cac40",
   "metadata": {},
   "outputs": [
    {
     "name": "stdout",
     "output_type": "stream",
     "text": [
      "Hello, world!\n"
     ]
    }
   ],
   "source": [
    "# Mi primer \"Hello World\" en Jupyter\n",
    "\n",
    "print('Hello, world!')"
   ]
  },
  {
   "cell_type": "code",
   "execution_count": 3,
   "id": "ba727785-c56b-4a27-9094-c67a4bf02962",
   "metadata": {},
   "outputs": [
    {
     "data": {
      "text/plain": [
       "'C:\\\\Users\\\\ingpm'"
      ]
     },
     "execution_count": 3,
     "metadata": {},
     "output_type": "execute_result"
    }
   ],
   "source": [
    "%pwd\n"
   ]
  },
  {
   "cell_type": "code",
   "execution_count": 7,
   "id": "389daba8-d468-4d0f-a8a6-2c860bd96658",
   "metadata": {},
   "outputs": [],
   "source": [
    "# Completado con el tabulador\n",
    "\n",
    "# Ejemplo menu desplegable\n",
    "\n",
    "an_apple = 27\n",
    "\n",
    "an_example = 2\n",
    "\n",
    "#an<tab>"
   ]
  },
  {
   "cell_type": "code",
   "execution_count": 6,
   "id": "c602ad1a-a078-4052-85b5-91d4b7fc3cbd",
   "metadata": {},
   "outputs": [],
   "source": [
    "# Ejemplo completar metodos y atributos para un objeto\n",
    "\n",
    "b = [1,2,3]\n",
    "\n",
    "#b.<Tab>"
   ]
  },
  {
   "cell_type": "code",
   "execution_count": 5,
   "id": "b9435bca-c380-469a-8217-68900fb446ee",
   "metadata": {},
   "outputs": [],
   "source": [
    "# Ejemplo completar modulos\n",
    "\n",
    "import datetime\n",
    "\n",
    "#datetime.<Tab>"
   ]
  },
  {
   "cell_type": "code",
   "execution_count": 9,
   "id": "f79629b0-74d2-4c65-ab36-38891d7e3609",
   "metadata": {},
   "outputs": [],
   "source": [
    "# Ejemplo completar argumentos de palabras clave de funcion\n",
    "\n",
    "def fun_with_keywords(abra=1, abbra=2, abbbra=3):\n",
    "    return abra, abbra, abbbra\n",
    "\n",
    "#func_with_keywords (ab+<tab>\n"
   ]
  },
  {
   "cell_type": "code",
   "execution_count": 11,
   "id": "ebb9d962-fc5a-49c6-abba-b130f1808cfa",
   "metadata": {},
   "outputs": [
    {
     "data": {
      "text/plain": [
       "\u001b[1;31mType:\u001b[0m        list\n",
       "\u001b[1;31mString form:\u001b[0m [1, 2, 3]\n",
       "\u001b[1;31mLength:\u001b[0m      3\n",
       "\u001b[1;31mDocstring:\u001b[0m  \n",
       "Built-in mutable sequence.\n",
       "\n",
       "If no argument is given, the constructor creates a new empty list.\n",
       "The argument must be an iterable if specified."
      ]
     },
     "metadata": {},
     "output_type": "display_data"
    }
   ],
   "source": [
    "# Introspeccion\n",
    "\n",
    "# Uso de signo de interrogacion para ver informacion general de un objeto\n",
    "\n",
    "b = [1,2,3]\n",
    "\n",
    "b?"
   ]
  },
  {
   "cell_type": "code",
   "execution_count": 12,
   "id": "5485c0a2-c22f-4139-9e97-27f4650a9186",
   "metadata": {},
   "outputs": [
    {
     "data": {
      "text/plain": [
       "\u001b[1;31mDocstring:\u001b[0m\n",
       "print(value, ..., sep=' ', end='\\n', file=sys.stdout, flush=False)\n",
       "\n",
       "Prints the values to a stream, or to sys.stdout by default.\n",
       "Optional keyword arguments:\n",
       "file:  a file-like object (stream); defaults to the current sys.stdout.\n",
       "sep:   string inserted between values, default a space.\n",
       "end:   string appended after the last value, default a newline.\n",
       "flush: whether to forcibly flush the stream.\n",
       "\u001b[1;31mType:\u001b[0m      builtin_function_or_method"
      ]
     },
     "metadata": {},
     "output_type": "display_data"
    }
   ],
   "source": [
    "print?"
   ]
  },
  {
   "cell_type": "code",
   "execution_count": 15,
   "id": "d29f2d21-ced4-4979-b6c6-a0dbea27e8cd",
   "metadata": {},
   "outputs": [],
   "source": [
    "# Ejemplo de funcion\n",
    "\n",
    "def add_numbers(a,b):\n",
    "\n",
    "    \"\"\"\n",
    "\n",
    "    Add two numbers together\n",
    "\n",
    "\n",
    "    Returns\n",
    "\n",
    "\n",
    "    -------\n",
    "\n",
    "    the_sum : type of arguments\n",
    "\n",
    "\n",
    "    \"\"\"\n",
    "\n",
    "    return a + b\n",
    "\n"
   ]
  },
  {
   "cell_type": "code",
   "execution_count": 16,
   "id": "9c701613-9d34-444b-bbc3-4560bdeaaed2",
   "metadata": {},
   "outputs": [
    {
     "data": {
      "text/plain": [
       "\u001b[1;31mSignature:\u001b[0m \u001b[0madd_numbers\u001b[0m\u001b[1;33m(\u001b[0m\u001b[0ma\u001b[0m\u001b[1;33m,\u001b[0m \u001b[0mb\u001b[0m\u001b[1;33m)\u001b[0m\u001b[1;33m\u001b[0m\u001b[1;33m\u001b[0m\u001b[0m\n",
       "\u001b[1;31mDocstring:\u001b[0m\n",
       "Add two numbers together\n",
       "\n",
       "\n",
       "Returns\n",
       "\n",
       "\n",
       "-------\n",
       "\n",
       "the_sum : type of arguments\n",
       "\u001b[1;31mFile:\u001b[0m      c:\\users\\ingpm\\appdata\\local\\temp\\ipykernel_1040\\3090180102.py\n",
       "\u001b[1;31mType:\u001b[0m      function"
      ]
     },
     "metadata": {},
     "output_type": "display_data"
    }
   ],
   "source": [
    "add_numbers?"
   ]
  },
  {
   "cell_type": "code",
   "execution_count": 17,
   "id": "1199bb8b-33f1-4c5c-85a6-81381250f842",
   "metadata": {},
   "outputs": [],
   "source": [
    "import numpy as np"
   ]
  },
  {
   "cell_type": "code",
   "execution_count": 18,
   "id": "fd130453-86fc-4bc7-813d-09b0aaa093a7",
   "metadata": {},
   "outputs": [
    {
     "data": {
      "text/plain": [
       "np.__loader__\n",
       "np.load\n",
       "np.loadtxt"
      ]
     },
     "metadata": {},
     "output_type": "display_data"
    }
   ],
   "source": [
    "np.*load*?"
   ]
  },
  {
   "cell_type": "code",
   "execution_count": 20,
   "id": "4fcde2a3-6c9e-4add-8fc3-d6dc5b32784b",
   "metadata": {},
   "outputs": [
    {
     "ename": "NameError",
     "evalue": "name 'array' is not defined",
     "output_type": "error",
     "traceback": [
      "\u001b[1;31m---------------------------------------------------------------------------\u001b[0m",
      "\u001b[1;31mNameError\u001b[0m                                 Traceback (most recent call last)",
      "Cell \u001b[1;32mIn[20], line 11\u001b[0m\n\u001b[0;32m      1\u001b[0m \u001b[38;5;66;03m# Conceptos Basicos del Lenguaje Python\u001b[39;00m\n\u001b[0;32m      2\u001b[0m \n\u001b[0;32m      3\u001b[0m \u001b[38;5;66;03m# Semantica del Lenguaje\u001b[39;00m\n\u001b[1;32m   (...)\u001b[0m\n\u001b[0;32m      6\u001b[0m \n\u001b[0;32m      7\u001b[0m \u001b[38;5;66;03m# Considera un bucle for de un algoritmo de ordenacion\u001b[39;00m\n\u001b[0;32m      9\u001b[0m x \u001b[38;5;241m=\u001b[39m \u001b[38;5;241m2\u001b[39m\n\u001b[1;32m---> 11\u001b[0m \u001b[38;5;28;01mfor\u001b[39;00m x \u001b[38;5;129;01min\u001b[39;00m \u001b[43marray\u001b[49m:\n\u001b[0;32m     12\u001b[0m     \u001b[38;5;28;01mif\u001b[39;00m x \u001b[38;5;241m<\u001b[39m pivot:\n\u001b[0;32m     13\u001b[0m         less\u001b[38;5;241m.\u001b[39mappend(x)\n",
      "\u001b[1;31mNameError\u001b[0m: name 'array' is not defined"
     ]
    }
   ],
   "source": [
    "# Conceptos Basicos del Lenguaje Python\n",
    "\n",
    "# Semantica del Lenguaje\n",
    "\n",
    "# Identacion, no llaves\n",
    "\n",
    "# Considera un bucle for de un algoritmo de ordenacion\n",
    "\n",
    "\n",
    "for x in array:\n",
    "    if x < pivot:\n",
    "        less.append(x)\n",
    "    else:\n",
    "        greater.append(x)"
   ]
  },
  {
   "cell_type": "code",
   "execution_count": null,
   "id": "9f5d2d3b-a250-42e5-91d5-bcf158b2a3ca",
   "metadata": {},
   "outputs": [],
   "source": [
    "# Uso de Punto y Coma para separar varias sentencias en una misma linea\n",
    "\n",
    "a = 5; b = 6 ; c = 7\n",
    "\n",
    "# Nota : No se aconseja poner varias sentencias en una misma linea ya que hace el codigo menos legible"
   ]
  },
  {
   "cell_type": "code",
   "execution_count": null,
   "id": "a0b5be5e-b5cd-4695-b6f6-1bac1b259e67",
   "metadata": {},
   "outputs": [],
   "source": [
    "# Todo es un objeto en Python\n",
    "\n",
    "# Comentarios \n",
    "\n",
    "# Esto es un ejemplo de comentario\n",
    "\n",
    "\n",
    "\n"
   ]
  }
 ],
 "metadata": {
  "kernelspec": {
   "display_name": "Python 3 (ipykernel)",
   "language": "python",
   "name": "python3"
  },
  "language_info": {
   "codemirror_mode": {
    "name": "ipython",
    "version": 3
   },
   "file_extension": ".py",
   "mimetype": "text/x-python",
   "name": "python",
   "nbconvert_exporter": "python",
   "pygments_lexer": "ipython3",
   "version": "3.10.16"
  }
 },
 "nbformat": 4,
 "nbformat_minor": 5
}
