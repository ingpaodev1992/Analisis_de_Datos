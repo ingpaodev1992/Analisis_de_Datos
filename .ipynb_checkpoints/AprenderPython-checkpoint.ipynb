{
 "cells": [
  {
   "cell_type": "code",
   "execution_count": null,
   "id": "c9f44402-0acb-4333-acb8-ec6985a7f044",
   "metadata": {},
   "outputs": [],
   "source": [
    "# Aprender Python"
   ]
  },
  {
   "cell_type": "code",
   "execution_count": 2,
   "id": "afc2abf0-3755-432e-90c3-35e2829cac40",
   "metadata": {},
   "outputs": [
    {
     "name": "stdout",
     "output_type": "stream",
     "text": [
      "Hello, world!\n"
     ]
    }
   ],
   "source": [
    "# Mi primer \"Hello World\" en Jupyter\n",
    "\n",
    "print('Hello, world!')"
   ]
  },
  {
   "cell_type": "code",
   "execution_count": 3,
   "id": "ba727785-c56b-4a27-9094-c67a4bf02962",
   "metadata": {},
   "outputs": [
    {
     "data": {
      "text/plain": [
       "'C:\\\\Users\\\\ingpm'"
      ]
     },
     "execution_count": 3,
     "metadata": {},
     "output_type": "execute_result"
    }
   ],
   "source": [
    "%pwd\n"
   ]
  },
  {
   "cell_type": "code",
   "execution_count": 7,
   "id": "389daba8-d468-4d0f-a8a6-2c860bd96658",
   "metadata": {},
   "outputs": [],
   "source": [
    "# Completado con el tabulador\n",
    "\n",
    "# Ejemplo menu desplegable\n",
    "\n",
    "an_apple = 27\n",
    "\n",
    "an_example = 2\n",
    "\n",
    "#an<tab>"
   ]
  },
  {
   "cell_type": "code",
   "execution_count": 6,
   "id": "c602ad1a-a078-4052-85b5-91d4b7fc3cbd",
   "metadata": {},
   "outputs": [],
   "source": [
    "# Ejemplo completar metodos y atributos para un objeto\n",
    "\n",
    "b = [1,2,3]\n",
    "\n",
    "#b.<Tab>"
   ]
  },
  {
   "cell_type": "code",
   "execution_count": 5,
   "id": "b9435bca-c380-469a-8217-68900fb446ee",
   "metadata": {},
   "outputs": [],
   "source": [
    "# Ejemplo completar modulos\n",
    "\n",
    "import datetime\n",
    "\n",
    "#datetime.<Tab>"
   ]
  },
  {
   "cell_type": "code",
   "execution_count": 9,
   "id": "f79629b0-74d2-4c65-ab36-38891d7e3609",
   "metadata": {},
   "outputs": [],
   "source": [
    "# Ejemplo completar argumentos de palabras clave de funcion\n",
    "\n",
    "def fun_with_keywords(abra=1, abbra=2, abbbra=3):\n",
    "    return abra, abbra, abbbra\n",
    "\n",
    "#func_with_keywords (ab+<tab>\n"
   ]
  },
  {
   "cell_type": "code",
   "execution_count": 11,
   "id": "ebb9d962-fc5a-49c6-abba-b130f1808cfa",
   "metadata": {},
   "outputs": [
    {
     "data": {
      "text/plain": [
       "\u001b[1;31mType:\u001b[0m        list\n",
       "\u001b[1;31mString form:\u001b[0m [1, 2, 3]\n",
       "\u001b[1;31mLength:\u001b[0m      3\n",
       "\u001b[1;31mDocstring:\u001b[0m  \n",
       "Built-in mutable sequence.\n",
       "\n",
       "If no argument is given, the constructor creates a new empty list.\n",
       "The argument must be an iterable if specified."
      ]
     },
     "metadata": {},
     "output_type": "display_data"
    }
   ],
   "source": [
    "# Introspeccion\n",
    "\n",
    "# Uso de signo de interrogacion para ver informacion general de un objeto\n",
    "\n",
    "b = [1,2,3]\n",
    "\n",
    "b?"
   ]
  },
  {
   "cell_type": "code",
   "execution_count": 12,
   "id": "5485c0a2-c22f-4139-9e97-27f4650a9186",
   "metadata": {},
   "outputs": [
    {
     "data": {
      "text/plain": [
       "\u001b[1;31mDocstring:\u001b[0m\n",
       "print(value, ..., sep=' ', end='\\n', file=sys.stdout, flush=False)\n",
       "\n",
       "Prints the values to a stream, or to sys.stdout by default.\n",
       "Optional keyword arguments:\n",
       "file:  a file-like object (stream); defaults to the current sys.stdout.\n",
       "sep:   string inserted between values, default a space.\n",
       "end:   string appended after the last value, default a newline.\n",
       "flush: whether to forcibly flush the stream.\n",
       "\u001b[1;31mType:\u001b[0m      builtin_function_or_method"
      ]
     },
     "metadata": {},
     "output_type": "display_data"
    }
   ],
   "source": [
    "print?"
   ]
  },
  {
   "cell_type": "code",
   "execution_count": 15,
   "id": "d29f2d21-ced4-4979-b6c6-a0dbea27e8cd",
   "metadata": {},
   "outputs": [],
   "source": [
    "# Ejemplo de funcion\n",
    "\n",
    "def add_numbers(a,b):\n",
    "\n",
    "    \"\"\"\n",
    "\n",
    "    Add two numbers together\n",
    "\n",
    "\n",
    "    Returns\n",
    "\n",
    "\n",
    "    -------\n",
    "\n",
    "    the_sum : type of arguments\n",
    "\n",
    "\n",
    "    \"\"\"\n",
    "\n",
    "    return a + b\n",
    "\n"
   ]
  },
  {
   "cell_type": "code",
   "execution_count": 16,
   "id": "9c701613-9d34-444b-bbc3-4560bdeaaed2",
   "metadata": {},
   "outputs": [
    {
     "data": {
      "text/plain": [
       "\u001b[1;31mSignature:\u001b[0m \u001b[0madd_numbers\u001b[0m\u001b[1;33m(\u001b[0m\u001b[0ma\u001b[0m\u001b[1;33m,\u001b[0m \u001b[0mb\u001b[0m\u001b[1;33m)\u001b[0m\u001b[1;33m\u001b[0m\u001b[1;33m\u001b[0m\u001b[0m\n",
       "\u001b[1;31mDocstring:\u001b[0m\n",
       "Add two numbers together\n",
       "\n",
       "\n",
       "Returns\n",
       "\n",
       "\n",
       "-------\n",
       "\n",
       "the_sum : type of arguments\n",
       "\u001b[1;31mFile:\u001b[0m      c:\\users\\ingpm\\appdata\\local\\temp\\ipykernel_1040\\3090180102.py\n",
       "\u001b[1;31mType:\u001b[0m      function"
      ]
     },
     "metadata": {},
     "output_type": "display_data"
    }
   ],
   "source": [
    "add_numbers?"
   ]
  },
  {
   "cell_type": "code",
   "execution_count": 17,
   "id": "1199bb8b-33f1-4c5c-85a6-81381250f842",
   "metadata": {},
   "outputs": [],
   "source": [
    "import numpy as np"
   ]
  },
  {
   "cell_type": "code",
   "execution_count": 18,
   "id": "fd130453-86fc-4bc7-813d-09b0aaa093a7",
   "metadata": {},
   "outputs": [
    {
     "data": {
      "text/plain": [
       "np.__loader__\n",
       "np.load\n",
       "np.loadtxt"
      ]
     },
     "metadata": {},
     "output_type": "display_data"
    }
   ],
   "source": [
    "np.*load*?"
   ]
  },
  {
   "cell_type": "code",
   "execution_count": 20,
   "id": "4fcde2a3-6c9e-4add-8fc3-d6dc5b32784b",
   "metadata": {},
   "outputs": [
    {
     "ename": "NameError",
     "evalue": "name 'array' is not defined",
     "output_type": "error",
     "traceback": [
      "\u001b[1;31m---------------------------------------------------------------------------\u001b[0m",
      "\u001b[1;31mNameError\u001b[0m                                 Traceback (most recent call last)",
      "Cell \u001b[1;32mIn[20], line 11\u001b[0m\n\u001b[0;32m      1\u001b[0m \u001b[38;5;66;03m# Conceptos Basicos del Lenguaje Python\u001b[39;00m\n\u001b[0;32m      2\u001b[0m \n\u001b[0;32m      3\u001b[0m \u001b[38;5;66;03m# Semantica del Lenguaje\u001b[39;00m\n\u001b[1;32m   (...)\u001b[0m\n\u001b[0;32m      6\u001b[0m \n\u001b[0;32m      7\u001b[0m \u001b[38;5;66;03m# Considera un bucle for de un algoritmo de ordenacion\u001b[39;00m\n\u001b[0;32m      9\u001b[0m x \u001b[38;5;241m=\u001b[39m \u001b[38;5;241m2\u001b[39m\n\u001b[1;32m---> 11\u001b[0m \u001b[38;5;28;01mfor\u001b[39;00m x \u001b[38;5;129;01min\u001b[39;00m \u001b[43marray\u001b[49m:\n\u001b[0;32m     12\u001b[0m     \u001b[38;5;28;01mif\u001b[39;00m x \u001b[38;5;241m<\u001b[39m pivot:\n\u001b[0;32m     13\u001b[0m         less\u001b[38;5;241m.\u001b[39mappend(x)\n",
      "\u001b[1;31mNameError\u001b[0m: name 'array' is not defined"
     ]
    }
   ],
   "source": [
    "# Conceptos Basicos del Lenguaje Python\n",
    "\n",
    "# Semantica del Lenguaje\n",
    "\n",
    "# Identacion, no llaves\n",
    "\n",
    "# Considera un bucle for de un algoritmo de ordenacion\n",
    "\n",
    "\n",
    "for x in array:\n",
    "    if x < pivot:\n",
    "        less.append(x)\n",
    "    else:\n",
    "        greater.append(x)"
   ]
  },
  {
   "cell_type": "code",
   "execution_count": null,
   "id": "9f5d2d3b-a250-42e5-91d5-bcf158b2a3ca",
   "metadata": {},
   "outputs": [],
   "source": [
    "# Uso de Punto y Coma para separar varias sentencias en una misma linea\n",
    "\n",
    "a = 5; b = 6 ; c = 7\n",
    "\n",
    "# Nota : No se aconseja poner varias sentencias en una misma linea ya que hace el codigo menos legible"
   ]
  },
  {
   "cell_type": "code",
   "execution_count": 1,
   "id": "a0b5be5e-b5cd-4695-b6f6-1bac1b259e67",
   "metadata": {},
   "outputs": [
    {
     "name": "stdout",
     "output_type": "stream",
     "text": [
      "Reached this line\n"
     ]
    }
   ],
   "source": [
    "# Todo es un objeto en Python\n",
    "\n",
    "# Comentarios \n",
    "\n",
    "# Esto es un ejemplo de comentario\n",
    "\n",
    "print (\"Reached this line\") # Simple status report\n"
   ]
  },
  {
   "cell_type": "code",
   "execution_count": 6,
   "id": "01e5f2f2-cde6-4fbd-9ba8-a44c8fb11f52",
   "metadata": {},
   "outputs": [],
   "source": [
    "# Llamadas a metodos y funciones\n",
    "\n",
    "# Ejemplo\n",
    "\n",
    "result = f(x,y,z)\n",
    "g()"
   ]
  },
  {
   "cell_type": "code",
   "execution_count": null,
   "id": "7a5c470d-3be3-42e3-abf8-b1a29ac3d531",
   "metadata": {},
   "outputs": [],
   "source": [
    "# Funciones adjuntas o metodos - Sintaxis\n",
    "\n",
    "obj.some_method(x,y,z)"
   ]
  },
  {
   "cell_type": "code",
   "execution_count": null,
   "id": "d2c5d627-58a2-4f26-a336-b7332293a66d",
   "metadata": {},
   "outputs": [],
   "source": [
    "# Argumentos posicionales como de palabra clave\n",
    "\n",
    "result = f(a,b,c, d=5, e=\"foo\")"
   ]
  },
  {
   "cell_type": "code",
   "execution_count": 15,
   "id": "a4273dcf-4ac3-40d1-af06-a7bf5ccc37c5",
   "metadata": {},
   "outputs": [
    {
     "data": {
      "text/plain": [
       "[1, 2, 3]"
      ]
     },
     "execution_count": 15,
     "metadata": {},
     "output_type": "execute_result"
    }
   ],
   "source": [
    "# Variables y paso de argumentos\n",
    "\n",
    "a = [1,2,3]\n",
    "\n",
    "b = a\n",
    "\n",
    "b\n"
   ]
  },
  {
   "cell_type": "code",
   "execution_count": 16,
   "id": "7fa62046-5c23-4e26-bb5a-19a7725b6e69",
   "metadata": {},
   "outputs": [
    {
     "data": {
      "text/plain": [
       "[1, 2, 3]"
      ]
     },
     "execution_count": 16,
     "metadata": {},
     "output_type": "execute_result"
    }
   ],
   "source": [
    "b "
   ]
  },
  {
   "cell_type": "code",
   "execution_count": 17,
   "id": "73501bd7-65fb-4e5b-adf4-202a432d0749",
   "metadata": {},
   "outputs": [],
   "source": [
    "a.append(4)"
   ]
  },
  {
   "cell_type": "code",
   "execution_count": 18,
   "id": "a79545c7-72a2-487b-9fb9-c1af16592850",
   "metadata": {},
   "outputs": [
    {
     "data": {
      "text/plain": [
       "[1, 2, 3, 4]"
      ]
     },
     "execution_count": 18,
     "metadata": {},
     "output_type": "execute_result"
    }
   ],
   "source": [
    "b"
   ]
  },
  {
   "cell_type": "code",
   "execution_count": 19,
   "id": "b138713e-8ade-4b3f-af2b-09392d19e36b",
   "metadata": {},
   "outputs": [],
   "source": [
    "# Ejemplo\n",
    "\n",
    "def append_element(some_list, element):\n",
    "    some_list.append(element)"
   ]
  },
  {
   "cell_type": "code",
   "execution_count": 21,
   "id": "2aadfabb-7f93-4350-93fa-df9a6e1f14ff",
   "metadata": {},
   "outputs": [],
   "source": [
    "data = [1,2,3]\n",
    "\n",
    "append_element(data,4)\n"
   ]
  },
  {
   "cell_type": "code",
   "execution_count": 22,
   "id": "1d22b897-20d1-4fff-994c-dea02eae2c12",
   "metadata": {},
   "outputs": [
    {
     "data": {
      "text/plain": [
       "[1, 2, 3, 4]"
      ]
     },
     "execution_count": 22,
     "metadata": {},
     "output_type": "execute_result"
    }
   ],
   "source": [
    "data"
   ]
  },
  {
   "cell_type": "code",
   "execution_count": 23,
   "id": "bdb29d23-5fa3-4a50-986f-3a78c5d2e924",
   "metadata": {},
   "outputs": [
    {
     "data": {
      "text/plain": [
       "int"
      ]
     },
     "execution_count": 23,
     "metadata": {},
     "output_type": "execute_result"
    }
   ],
   "source": [
    "# Referencias dinamicas, tipos fuertes\n",
    "\n",
    "a = 5\n",
    "\n",
    "type(a)"
   ]
  },
  {
   "cell_type": "code",
   "execution_count": 24,
   "id": "cfad763e-6a2a-4fe0-a132-49b634676e83",
   "metadata": {},
   "outputs": [
    {
     "data": {
      "text/plain": [
       "str"
      ]
     },
     "execution_count": 24,
     "metadata": {},
     "output_type": "execute_result"
    }
   ],
   "source": [
    "a = \"foo\"\n",
    "\n",
    "type(a)"
   ]
  },
  {
   "cell_type": "code",
   "execution_count": 25,
   "id": "90e50648-36af-4ca2-bd36-a925fd6d0290",
   "metadata": {},
   "outputs": [
    {
     "ename": "TypeError",
     "evalue": "can only concatenate str (not \"int\") to str",
     "output_type": "error",
     "traceback": [
      "\u001b[1;31m---------------------------------------------------------------------------\u001b[0m",
      "\u001b[1;31mTypeError\u001b[0m                                 Traceback (most recent call last)",
      "Cell \u001b[1;32mIn[25], line 3\u001b[0m\n\u001b[0;32m      1\u001b[0m \u001b[38;5;66;03m# Comprobando que Python es un lenguaje fuertemente tipado\u001b[39;00m\n\u001b[1;32m----> 3\u001b[0m \u001b[38;5;124;43m\"\u001b[39;49m\u001b[38;5;124;43m5\u001b[39;49m\u001b[38;5;124;43m\"\u001b[39;49m\u001b[38;5;241;43m+\u001b[39;49m\u001b[38;5;241;43m5\u001b[39;49m\n",
      "\u001b[1;31mTypeError\u001b[0m: can only concatenate str (not \"int\") to str"
     ]
    }
   ],
   "source": [
    "# Comprobando que Python es un lenguaje fuertemente tipado\n",
    "\n",
    "\"5\"+5"
   ]
  },
  {
   "cell_type": "code",
   "execution_count": 29,
   "id": "6722fde4-c150-4c94-9702-78ffefc9975a",
   "metadata": {},
   "outputs": [
    {
     "name": "stdout",
     "output_type": "stream",
     "text": [
      "a is <class 'float'>, b is <class 'int'>\n"
     ]
    },
    {
     "data": {
      "text/plain": [
       "2.25"
      ]
     },
     "execution_count": 29,
     "metadata": {},
     "output_type": "execute_result"
    }
   ],
   "source": [
    "# Ahora:\n",
    "\n",
    "a = 4.5\n",
    "\n",
    "b = 2\n",
    "\n",
    "print(f\"a is {type(a)}, b is {type(b)}\")\n",
    "\n",
    "a/b"
   ]
  },
  {
   "cell_type": "code",
   "execution_count": 30,
   "id": "344b6e46-6a9b-4f01-a877-af7b54280443",
   "metadata": {},
   "outputs": [
    {
     "data": {
      "text/plain": [
       "True"
      ]
     },
     "execution_count": 30,
     "metadata": {},
     "output_type": "execute_result"
    }
   ],
   "source": [
    "# Comprobar que un objeto es una instancia de un tipo concreto\n",
    "\n",
    "a = 5\n",
    "\n",
    "isinstance(a,int)"
   ]
  },
  {
   "cell_type": "code",
   "execution_count": 31,
   "id": "df54b061-cf20-4a17-b67c-113b741b7338",
   "metadata": {},
   "outputs": [
    {
     "data": {
      "text/plain": [
       "True"
      ]
     },
     "execution_count": 31,
     "metadata": {},
     "output_type": "execute_result"
    }
   ],
   "source": [
    "a = 5; b = 4.5\n",
    "\n",
    "isinstance(a,(int,float))"
   ]
  },
  {
   "cell_type": "code",
   "execution_count": 32,
   "id": "8156610b-1dfc-4e5d-aff2-5ed08ed5b5c1",
   "metadata": {},
   "outputs": [
    {
     "data": {
      "text/plain": [
       "True"
      ]
     },
     "execution_count": 32,
     "metadata": {},
     "output_type": "execute_result"
    }
   ],
   "source": [
    "isinstance(b,(int,float))"
   ]
  },
  {
   "cell_type": "code",
   "execution_count": 33,
   "id": "dd6f40f8-e976-4c37-b218-5973d17a5313",
   "metadata": {},
   "outputs": [],
   "source": [
    "# Atributos y metodos\n",
    "\n",
    "a = \"foo\"\n",
    "\n",
    "# a.<Press Tab>"
   ]
  },
  {
   "cell_type": "code",
   "execution_count": 34,
   "id": "f655b4cf-6b4d-4581-9c4f-c382e450bdeb",
   "metadata": {},
   "outputs": [
    {
     "data": {
      "text/plain": [
       "<function str.split(sep=None, maxsplit=-1)>"
      ]
     },
     "execution_count": 34,
     "metadata": {},
     "output_type": "execute_result"
    }
   ],
   "source": [
    "getattr(a,\"split\")\n"
   ]
  },
  {
   "cell_type": "code",
   "execution_count": 35,
   "id": "be5977ab-0357-4368-a83e-2b7b0680bea0",
   "metadata": {},
   "outputs": [],
   "source": [
    "# Mecanografia\n",
    "\n",
    "# Funcion Iter\n",
    "\n",
    "def isiterable(obj):\n",
    "    try:\n",
    "        iter(obj)\n",
    "        return True\n",
    "    except TypeError: # not iterable\n",
    "        return False"
   ]
  },
  {
   "cell_type": "code",
   "execution_count": 36,
   "id": "9f046560-556e-4826-b50e-d43ed8d0d5fe",
   "metadata": {},
   "outputs": [
    {
     "data": {
      "text/plain": [
       "True"
      ]
     },
     "execution_count": 36,
     "metadata": {},
     "output_type": "execute_result"
    }
   ],
   "source": [
    "isiterable(\"a string\")"
   ]
  },
  {
   "cell_type": "code",
   "execution_count": 37,
   "id": "cabcae8f-bf12-4266-a0a7-bed85e06242e",
   "metadata": {},
   "outputs": [
    {
     "data": {
      "text/plain": [
       "True"
      ]
     },
     "execution_count": 37,
     "metadata": {},
     "output_type": "execute_result"
    }
   ],
   "source": [
    "isiterable([1,2,3])"
   ]
  },
  {
   "cell_type": "code",
   "execution_count": 38,
   "id": "d8ed1f1b-3ac1-4ecb-89b2-dd3068971092",
   "metadata": {},
   "outputs": [
    {
     "data": {
      "text/plain": [
       "False"
      ]
     },
     "execution_count": 38,
     "metadata": {},
     "output_type": "execute_result"
    }
   ],
   "source": [
    "isiterable(5)"
   ]
  },
  {
   "cell_type": "code",
   "execution_count": 39,
   "id": "6dedda15-829c-4533-b3b1-f39e650bfd4f",
   "metadata": {},
   "outputs": [],
   "source": [
    "# Importaciones\n",
    "\n",
    "# Ejemplo some_module.py\n",
    "\n",
    "PI = 3.14159\n",
    "\n",
    "def f(x):\n",
    "    return x + 2\n",
    "\n",
    "def g(a,b):\n",
    "    return a + b"
   ]
  },
  {
   "cell_type": "code",
   "execution_count": 40,
   "id": "8e07532c-6cc5-43f5-8329-2ef2bef3502e",
   "metadata": {},
   "outputs": [
    {
     "ename": "ModuleNotFoundError",
     "evalue": "No module named 'some_module'",
     "output_type": "error",
     "traceback": [
      "\u001b[1;31m---------------------------------------------------------------------------\u001b[0m",
      "\u001b[1;31mModuleNotFoundError\u001b[0m                       Traceback (most recent call last)",
      "Cell \u001b[1;32mIn[40], line 3\u001b[0m\n\u001b[0;32m      1\u001b[0m \u001b[38;5;66;03m# Ahora si queremos acceder a las variables y funciones definidas en some_module.py desde otro archivo del mismo directorio:\u001b[39;00m\n\u001b[1;32m----> 3\u001b[0m \u001b[38;5;28;01mimport\u001b[39;00m \u001b[38;5;21;01msome_module\u001b[39;00m\n\u001b[0;32m      5\u001b[0m result \u001b[38;5;241m=\u001b[39m some_module\u001b[38;5;241m.\u001b[39mf(\u001b[38;5;241m5\u001b[39m)\n\u001b[0;32m      6\u001b[0m i \u001b[38;5;241m=\u001b[39m some_module\u001b[38;5;241m.\u001b[39mPI\n",
      "\u001b[1;31mModuleNotFoundError\u001b[0m: No module named 'some_module'"
     ]
    }
   ],
   "source": [
    "# Ahora si queremos acceder a las variables y funciones definidas en some_module.py desde otro archivo del mismo directorio:\n",
    "\n",
    "import some_module\n",
    "\n",
    "result = some_module.f(5)\n",
    "i = some_module.PI"
   ]
  },
  {
   "cell_type": "code",
   "execution_count": null,
   "id": "0f12db10-c003-4969-8591-4abb4e6dd6fe",
   "metadata": {},
   "outputs": [],
   "source": [
    "# Otra alternativa : \n",
    "\n",
    "from some_module import g, PI\n",
    "result = g(5,PI)"
   ]
  },
  {
   "cell_type": "code",
   "execution_count": null,
   "id": "8906c511-93c2-4b14-9db9-aac996cde7bd",
   "metadata": {},
   "outputs": [],
   "source": [
    "# Palabras clave \"as\"\n",
    "\n",
    "import some_module as sm\n",
    "from some_module import PI as pi, g as gf\n",
    "\n",
    "r1 = sm.f(pi)\n",
    "r2 = gf(6,pi)"
   ]
  },
  {
   "cell_type": "code",
   "execution_count": 41,
   "id": "924d8b2a-8b1f-44c4-b237-334d47c2a388",
   "metadata": {},
   "outputs": [
    {
     "data": {
      "text/plain": [
       "-2"
      ]
     },
     "execution_count": 41,
     "metadata": {},
     "output_type": "execute_result"
    }
   ],
   "source": [
    "# Operadores Binarios y Comparaciones\n",
    "\n",
    "5-7"
   ]
  },
  {
   "cell_type": "code",
   "execution_count": 42,
   "id": "e757e375-92ff-4fab-b98c-c7e1f1040d11",
   "metadata": {},
   "outputs": [
    {
     "data": {
      "text/plain": [
       "33.5"
      ]
     },
     "execution_count": 42,
     "metadata": {},
     "output_type": "execute_result"
    }
   ],
   "source": [
    "12+21.5"
   ]
  },
  {
   "cell_type": "code",
   "execution_count": 43,
   "id": "54c7907d-7066-4591-8dce-c3f6d13401d4",
   "metadata": {},
   "outputs": [
    {
     "data": {
      "text/plain": [
       "False"
      ]
     },
     "execution_count": 43,
     "metadata": {},
     "output_type": "execute_result"
    }
   ],
   "source": [
    "5 <=2"
   ]
  },
  {
   "cell_type": "code",
   "execution_count": 45,
   "id": "09fb426f-dae8-412b-8024-1be6ca0bffe1",
   "metadata": {},
   "outputs": [
    {
     "data": {
      "text/plain": [
       "True"
      ]
     },
     "execution_count": 45,
     "metadata": {},
     "output_type": "execute_result"
    }
   ],
   "source": [
    "# Comprobar si dos variables se refieren al mismo objeto:\n",
    "\n",
    "a = [1,2,3]\n",
    "\n",
    "b = a\n",
    "\n",
    "c = list(a)\n",
    "\n",
    "a is b\n"
   ]
  },
  {
   "cell_type": "code",
   "execution_count": 46,
   "id": "8fbf1e74-e76f-433c-9fe2-15525df64d1d",
   "metadata": {},
   "outputs": [
    {
     "data": {
      "text/plain": [
       "True"
      ]
     },
     "execution_count": 46,
     "metadata": {},
     "output_type": "execute_result"
    }
   ],
   "source": [
    "a is not c"
   ]
  },
  {
   "cell_type": "code",
   "execution_count": 47,
   "id": "bd0be6c3-12dc-4c88-8c72-ad9574bc3664",
   "metadata": {},
   "outputs": [
    {
     "data": {
      "text/plain": [
       "True"
      ]
     },
     "execution_count": 47,
     "metadata": {},
     "output_type": "execute_result"
    }
   ],
   "source": [
    "# is not es igual a :\n",
    "\n",
    "a == c"
   ]
  },
  {
   "cell_type": "code",
   "execution_count": 48,
   "id": "e79bb7d6-58be-4f14-b1ef-8173dcf0ae5a",
   "metadata": {},
   "outputs": [
    {
     "data": {
      "text/plain": [
       "True"
      ]
     },
     "execution_count": 48,
     "metadata": {},
     "output_type": "execute_result"
    }
   ],
   "source": [
    "a = None\n",
    "\n",
    "a is None"
   ]
  },
  {
   "cell_type": "code",
   "execution_count": null,
   "id": "ff2328c4-a771-4168-99b8-873961455f70",
   "metadata": {},
   "outputs": [],
   "source": [
    "# Objetos mutables e inmutables\n",
    "\n"
   ]
  }
 ],
 "metadata": {
  "kernelspec": {
   "display_name": "Python 3 (ipykernel)",
   "language": "python",
   "name": "python3"
  },
  "language_info": {
   "codemirror_mode": {
    "name": "ipython",
    "version": 3
   },
   "file_extension": ".py",
   "mimetype": "text/x-python",
   "name": "python",
   "nbconvert_exporter": "python",
   "pygments_lexer": "ipython3",
   "version": "3.10.16"
  }
 },
 "nbformat": 4,
 "nbformat_minor": 5
}
